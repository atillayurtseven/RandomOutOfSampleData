{
 "cells": [
  {
   "cell_type": "code",
   "execution_count": 1,
   "metadata": {},
   "outputs": [],
   "source": [
    "import pandas as pd\n",
    "import numpy as np\n",
    "import matplotlib.pyplot as plt\n",
    "from scipy.stats import mode\n",
    "from collections import Counter"
   ]
  },
  {
   "cell_type": "code",
   "execution_count": 2,
   "metadata": {},
   "outputs": [],
   "source": [
    "def load_file(f):\n",
    "    df = pd.read_csv(f)\n",
    "    return df"
   ]
  },
  {
   "cell_type": "code",
   "execution_count": 3,
   "metadata": {},
   "outputs": [],
   "source": [
    "def load_data(sym=\"EUR\", to_sym=\"USD\", interval=\"5min\", dtype=2, intraday=False, outputsize=\"full\"):\n",
    "    key = \"ENTER_YOUR_KEY\"\n",
    "    if dtype == 1: # Download stock\n",
    "        print(\"STOCKS\")\n",
    "        if intraday:\n",
    "            url = \"https://www.alphavantage.co/query?function=TIME_SERIES_INTRADAY&interval={}&symbol={}&apikey={}&datatype=csv&outputsize={}\".format(interval, sym, key, outputsize)\n",
    "        else:\n",
    "            url = \"https://www.alphavantage.co/query?function=TIME_SERIES_DAILY&symbol={}&apikey={}&datatype=csv&outputsize={}\".format(sym, key, outputsize)\n",
    "    elif dtype == 2: # Download forex\n",
    "        print(\"FX\")\n",
    "        if intraday:\n",
    "            url = \"https://www.alphavantage.co/query?function=FX_INTRADAY&interval={}&from_symbol={}&to_symbol={}&apikey={}&datatype=csv&outputsize={}\".format(interval, sym, to_sym, key, outputsize)\n",
    "        else:\n",
    "            url = \"https://www.alphavantage.co/query?function=FX_DAILY&from_symbol={}&to_symbol={}&apikey={}&datatype=csv&outputsize={}\".format(sym, to_sym, key, outputsize)\n",
    "    elif dtype == 3: # Download Crypto\n",
    "        print(\"CRYPTO\")\n",
    "        url = \"https://www.alphavantage.co/query?function=DIGITAL_CURRENCY_DAILY&symbol={}&market={}&apikey={}&datatype=csv&outputsize={}\".format(sym, to_sym, key, outputsize)\n",
    "    print(\"Downloading\", url)\n",
    "    print(\"---\")\n",
    "    df = pd.read_csv(url)\n",
    "\n",
    "    # rename columns\n",
    "    if dtype == 3:\n",
    "        df.rename(columns={'timestamp': 'Date', 'open (USD)': 'Open', 'high (USD)': 'High', 'low (USD)': 'Low', 'close (USD)': 'Close', 'volume': 'Volume'}, inplace=True)\n",
    "    else:\n",
    "        df.rename(columns={'timestamp': 'Date', 'open': 'Open', 'high': 'High', 'low': 'Low', 'close': 'Close', 'volume': 'Volume'}, inplace=True)\n",
    "    df.sort_values(by=\"Date\", ascending=True, inplace=True)\n",
    "    print(\"Data loaded:\", len(df), \"rows\")\n",
    "    return df.reset_index(drop=True)"
   ]
  },
  {
   "cell_type": "code",
   "execution_count": 25,
   "metadata": {},
   "outputs": [],
   "source": [
    "def plot_candles(sym, df, db, lines=100, wicks=True, shade=True, hline=True):\n",
    "    \"\"\"\n",
    "    sym: symbol\n",
    "    df: daily data\n",
    "    db: random out-of-sample data\n",
    "    lines: plot last n lines\n",
    "    \"\"\"\n",
    "    # Bar heights\n",
    "    df['Bar'] = df['High'] - df['Low']\n",
    "    # Body heights\n",
    "    df['Body'] = abs(df['Close'] - df['Open'])\n",
    "    # Up or Down bar?\n",
    "    df['Up'] = df['Close'] > df['Open']\n",
    "    # Green if up else Red\n",
    "    g1 = \"#27AE60\"\n",
    "    g2 = \"#7DCEA0\"\n",
    "    r1 = \"#C0392B\"\n",
    "    r2 = \"#D98880\"\n",
    "    df['Color'] = np.where(df['Up'], g1, r1)\n",
    "    # do the same for daily data\n",
    "    db['Bar'] = db['High'] - db['Low']\n",
    "    db['Body'] = abs(db['Close'] - db['Open'])\n",
    "    db['Up'] = db['Close'] > db['Open']\n",
    "    db['Color'] = np.where(db['Up'], g2 if shade else g1, r2 if shade else r1)\n",
    "    if lines > 0:\n",
    "        db1 = df[-lines:].reset_index(drop=True).reset_index()\n",
    "    else:\n",
    "        db1 = df.reset_index(drop=True).reset_index()\n",
    "    idx = list(np.array(np.arange(len(db1), len(db1) + len(db))))\n",
    "    db[\"index\"] = idx\n",
    "    db = db.reset_index(drop=True).reset_index()\n",
    "    fig, ax = plt.subplots(1, 1, figsize=(16, 10))\n",
    "    ax.yaxis.tick_right()\n",
    "    if hline:\n",
    "        ax.axvline(idx[0], ls=\"-.\", color=\"#000000\", linewidth=0.5)\n",
    "    ax.text(0.01, 0.95, \"Historical Data\", transform=plt.gca().transAxes, size=20, horizontalalignment=\"left\")\n",
    "    ax.text(0.99, 0.95, \"OOS Data\", transform=plt.gca().transAxes, size=20, horizontalalignment=\"right\")\n",
    "    if wicks:\n",
    "        ax.bar(db1['index'], bottom=db1['Low'], height=db1['Bar'], color=\"#000000\", width=0.2)\n",
    "    ax.bar(db1['index'], bottom=np.where(db1['Up'], db1['Open'], db1['Close']), height=db1['Body'], color=db1['Color'], width=0.9)\n",
    "    if wicks:\n",
    "        ax.bar(db['index'], bottom=db['Low'], height=db['Bar'], color=\"#566573\", width=0.2)\n",
    "    ax.bar(db['index'], bottom=np.where(db['Up'], db['Open'], db['Close']), height=db['Body'], color=db['Color'], width=0.9)\n",
    "    plt.title(sym + \" CHART\")\n",
    "    plt.show()"
   ]
  },
  {
   "cell_type": "code",
   "execution_count": 123,
   "metadata": {},
   "outputs": [],
   "source": [
    "def out_of_sample_ohlc(df, bars=30, level=1, seed=None, shuffle=True, use_dist=True):\n",
    "    \"\"\"\n",
    "    df: Historical OHLC\n",
    "    days: How many days to create? Out of sample size\n",
    "    level: strength of the distribution\n",
    "    seed: if seed >= 0, we will get random data each time\n",
    "    \"\"\"\n",
    "    np.random.seed(seed)\n",
    "    # set returns between bars\n",
    "    df[\"Returns\"] = df[\"Close\"] / df[\"Open\"]\n",
    "    # set gaps between bars\n",
    "    df[\"Gaps\"] = df[\"Open\"] / df[\"Close\"].shift(1)\n",
    "    # set High wicks\n",
    "    df[\"Up\"] = df[\"Close\"] > df[\"Open\"]\n",
    "    df[\"HW\"] = df[\"High\"] / np.where(df[\"Up\"], df[\"Close\"], df[\"Open\"])\n",
    "    df[\"LW\"] = df[\"Low\"] / np.where(df[\"Up\"], df[\"Open\"], df[\"Close\"])\n",
    "    df = df.dropna()\n",
    "    # let's create normal distribution data from Returns, Gaps, High wicks and Low wicks\n",
    "    if use_dist:\n",
    "        returns = np.random.normal(df[\"Returns\"].mean(), df[\"Returns\"].std(), len(df))\n",
    "        gaps = np.random.normal(df[\"Gaps\"].mean(), df[\"Gaps\"].std(), len(df))\n",
    "        hws = np.random.normal(df[\"HW\"].mean(), df[\"HW\"].std(), len(df))\n",
    "        lws = np.random.normal(df[\"LW\"].mean(), df[\"LW\"].std(), len(df))\n",
    "    else:\n",
    "        # here we are using the same probability of occurrence\n",
    "        returns = df[\"Returns\"].values\n",
    "        gaps = df[\"Gaps\"].values\n",
    "        hws = df[\"HW\"].values\n",
    "        lws = df[\"LW\"].values\n",
    "    if shuffle:\n",
    "        np.random.shuffle(returns)\n",
    "        np.random.shuffle(gaps)\n",
    "        np.random.shuffle(hws)\n",
    "        np.random.shuffle(lws)\n",
    "    ohlc = []\n",
    "    # get the last day's closing price\n",
    "    c = df[\"Close\"].iloc[-1]\n",
    "    for _ in range(bars):\n",
    "        gap = returns[np.random.randint(len(gaps))]\n",
    "        #gap = np.random.choice(gaps, 1)[0]\n",
    "        o = c * gap\n",
    "        c = o * returns[np.random.randint(len(returns))]\n",
    "        h = np.max([o, c]) * hws[np.random.randint(len(hws))]\n",
    "        l = np.min([o, c]) * lws[np.random.randint(len(lws))]\n",
    "        # in case you would like to use np.random.choice()\n",
    "        #c = o * np.random.choice(returns, 1)[0]\n",
    "        #h = np.max([o, c]) * np.random.choice(hws, 1)[0]\n",
    "        #l = np.min([o, c]) * np.random.choice(lws, 1)[0]\n",
    "        ohlc.append([o, h, l, c])\n",
    "    return ohlc"
   ]
  },
  {
   "cell_type": "code",
   "execution_count": 45,
   "metadata": {},
   "outputs": [
    {
     "name": "stdout",
     "output_type": "stream",
     "text": [
      "STOCKS\n",
      "Downloading https://www.alphavantage.co/query?function=TIME_SERIES_DAILY&symbol=SPY&apikey=ENTER_YOUR_KEY&datatype=csv&outputsize=full\n",
      "---\n",
      "Data loaded: 5032 rows\n"
     ]
    }
   ],
   "source": [
    "# Settings\n",
    "sym = \"SPY\"\n",
    "intraday = False # False = Daily\n",
    "to_sym = \"USD\" # Forex & Crypto only\n",
    "period = \"60min\" #intraday only\n",
    "interval = \"15min\" # intraday only - 1min, 5min, 15min, 30min, 60min\n",
    "dtype = 1 # 1: stock 2: fx 3: crypto\n",
    "df = load_data(sym, to_sym, interval, dtype, intraday=False)"
   ]
  },
  {
   "cell_type": "code",
   "execution_count": 142,
   "metadata": {},
   "outputs": [
    {
     "data": {
      "text/html": [
       "<div>\n",
       "<style scoped>\n",
       "    .dataframe tbody tr th:only-of-type {\n",
       "        vertical-align: middle;\n",
       "    }\n",
       "\n",
       "    .dataframe tbody tr th {\n",
       "        vertical-align: top;\n",
       "    }\n",
       "\n",
       "    .dataframe thead th {\n",
       "        text-align: right;\n",
       "    }\n",
       "</style>\n",
       "<table border=\"1\" class=\"dataframe\">\n",
       "  <thead>\n",
       "    <tr style=\"text-align: right;\">\n",
       "      <th></th>\n",
       "      <th>Open</th>\n",
       "      <th>High</th>\n",
       "      <th>Low</th>\n",
       "      <th>Close</th>\n",
       "      <th>Returns</th>\n",
       "    </tr>\n",
       "  </thead>\n",
       "  <tbody>\n",
       "    <tr>\n",
       "      <th>40</th>\n",
       "      <td>282.77</td>\n",
       "      <td>285.79</td>\n",
       "      <td>278.82</td>\n",
       "      <td>279.03</td>\n",
       "      <td>0.986774</td>\n",
       "    </tr>\n",
       "    <tr>\n",
       "      <th>41</th>\n",
       "      <td>274.08</td>\n",
       "      <td>274.93</td>\n",
       "      <td>272.89</td>\n",
       "      <td>273.34</td>\n",
       "      <td>0.997300</td>\n",
       "    </tr>\n",
       "    <tr>\n",
       "      <th>42</th>\n",
       "      <td>272.90</td>\n",
       "      <td>273.66</td>\n",
       "      <td>267.99</td>\n",
       "      <td>268.80</td>\n",
       "      <td>0.984976</td>\n",
       "    </tr>\n",
       "    <tr>\n",
       "      <th>43</th>\n",
       "      <td>270.49</td>\n",
       "      <td>274.18</td>\n",
       "      <td>269.60</td>\n",
       "      <td>272.81</td>\n",
       "      <td>1.008577</td>\n",
       "    </tr>\n",
       "    <tr>\n",
       "      <th>44</th>\n",
       "      <td>268.34</td>\n",
       "      <td>269.47</td>\n",
       "      <td>267.32</td>\n",
       "      <td>268.62</td>\n",
       "      <td>1.001043</td>\n",
       "    </tr>\n",
       "    <tr>\n",
       "      <th>45</th>\n",
       "      <td>270.08</td>\n",
       "      <td>270.52</td>\n",
       "      <td>269.84</td>\n",
       "      <td>270.11</td>\n",
       "      <td>1.000111</td>\n",
       "    </tr>\n",
       "    <tr>\n",
       "      <th>46</th>\n",
       "      <td>269.69</td>\n",
       "      <td>269.96</td>\n",
       "      <td>266.75</td>\n",
       "      <td>268.69</td>\n",
       "      <td>0.996292</td>\n",
       "    </tr>\n",
       "    <tr>\n",
       "      <th>47</th>\n",
       "      <td>268.12</td>\n",
       "      <td>268.19</td>\n",
       "      <td>267.27</td>\n",
       "      <td>267.95</td>\n",
       "      <td>0.999366</td>\n",
       "    </tr>\n",
       "    <tr>\n",
       "      <th>48</th>\n",
       "      <td>265.46</td>\n",
       "      <td>265.66</td>\n",
       "      <td>265.04</td>\n",
       "      <td>265.48</td>\n",
       "      <td>1.000075</td>\n",
       "    </tr>\n",
       "    <tr>\n",
       "      <th>49</th>\n",
       "      <td>271.95</td>\n",
       "      <td>274.30</td>\n",
       "      <td>270.91</td>\n",
       "      <td>271.12</td>\n",
       "      <td>0.996948</td>\n",
       "    </tr>\n",
       "  </tbody>\n",
       "</table>\n",
       "</div>"
      ],
      "text/plain": [
       "      Open    High     Low   Close   Returns\n",
       "40  282.77  285.79  278.82  279.03  0.986774\n",
       "41  274.08  274.93  272.89  273.34  0.997300\n",
       "42  272.90  273.66  267.99  268.80  0.984976\n",
       "43  270.49  274.18  269.60  272.81  1.008577\n",
       "44  268.34  269.47  267.32  268.62  1.001043\n",
       "45  270.08  270.52  269.84  270.11  1.000111\n",
       "46  269.69  269.96  266.75  268.69  0.996292\n",
       "47  268.12  268.19  267.27  267.95  0.999366\n",
       "48  265.46  265.66  265.04  265.48  1.000075\n",
       "49  271.95  274.30  270.91  271.12  0.996948"
      ]
     },
     "execution_count": 142,
     "metadata": {},
     "output_type": "execute_result"
    }
   ],
   "source": [
    "# how many samples do we need?\n",
    "bars = 50\n",
    "digit = 2 # 2 for stocks, 5 for FX, 3 for XXXJPY, 8 for Crypto\n",
    "seed = 50 # Default: None (generate random each time)\n",
    "shuffle = False\n",
    "use_dist = False\n",
    "ohlc = out_of_sample_ohlc(df, bars=bars, level=1, seed=seed, shuffle=shuffle, use_dist=use_dist)\n",
    "db = pd.DataFrame(columns=[\"Open\", \"High\", \"Low\", \"Close\"], data=np.array(np.round(ohlc, digit)))\n",
    "db[\"Returns\"] = db[\"Close\"] / db[\"Open\"]\n",
    "db.tail(10)"
   ]
  },
  {
   "cell_type": "code",
   "execution_count": 143,
   "metadata": {},
   "outputs": [
    {
     "data": {
      "image/png": "[encoded data removed]",
      "text/plain": [
       "<Figure size 1152x720 with 1 Axes>"
      ]
     },
     "metadata": {},
     "output_type": "display_data"
    }
   ],
   "source": [
    "plot_candles(sym, df, db, lines=100, wicks=True, shade=True, hline=True)"
   ]
  },
  {
   "cell_type": "code",
   "execution_count": 144,
   "metadata": {},
   "outputs": [
    {
     "data": {
      "text/plain": [
       "[]"
      ]
     },
     "execution_count": 144,
     "metadata": {},
     "output_type": "execute_result"
    },
    {
     "data": {
      "image/png": "[encoded data removed]",
      "text/plain": [
       "<Figure size 432x288 with 1 Axes>"
      ]
     },
     "metadata": {},
     "output_type": "display_data"
    }
   ],
   "source": [
    "plt.hist(df[\"Returns\"][-bars:], bins=300)\n",
    "plt.plot()"
   ]
  },
  {
   "cell_type": "code",
   "execution_count": 131,
   "metadata": {},
   "outputs": [
    {
     "data": {
      "text/plain": [
       "[]"
      ]
     },
     "execution_count": 131,
     "metadata": {},
     "output_type": "execute_result"
    },
    {
     "data": {
      "image/png": "[encoded data removed]",
      "text/plain": [
       "<Figure size 432x288 with 1 Axes>"
      ]
     },
     "metadata": {},
     "output_type": "display_data"
    }
   ],
   "source": [
    "plt.hist(db[\"Returns\"], bins=300)\n",
    "plt.plot()"
   ]
  },
  {
   "cell_type": "code",
   "execution_count": null,
   "metadata": {},
   "outputs": [],
   "source": []
  },
  {
   "cell_type": "code",
   "execution_count": null,
   "metadata": {},
   "outputs": [],
   "source": []
  }
 ],
 "metadata": {
  "kernelspec": {
   "display_name": "Python 3",
   "language": "python",
   "name": "python3"
  },
  "language_info": {
   "codemirror_mode": {
    "name": "ipython",
    "version": 3
   },
   "file_extension": ".py",
   "mimetype": "text/x-python",
   "name": "python",
   "nbconvert_exporter": "python",
   "pygments_lexer": "ipython3",
   "version": "3.6.4"
  }
 },
 "nbformat": 4,
 "nbformat_minor": 2
}
